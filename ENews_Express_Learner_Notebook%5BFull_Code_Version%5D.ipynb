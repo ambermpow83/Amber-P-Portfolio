{
 "cells": [
  {
   "cell_type": "markdown",
   "id": "6yDxo9u0d9Na",
   "metadata": {
    "id": "6yDxo9u0d9Na"
   },
   "source": [
    "# Project Business Statistics: E-news Express\n",
    "\n",
    "**Marks: 60**"
   ]
  },
  {
   "cell_type": "markdown",
   "id": "SrLd-ICEmPSD",
   "metadata": {
    "id": "SrLd-ICEmPSD"
   },
   "source": [
    "## Define Problem Statement and Objectives"
   ]
  },
  {
   "cell_type": "markdown",
   "id": "9Vt1PLLqmXNn",
   "metadata": {
    "id": "9Vt1PLLqmXNn"
   },
   "source": [
    "An online news portal aims to expand its business by acquiring new subscribers. Every visitor to the website takes certain actions based on their interest. The company plans to analyze these interests and wants to determine whether a new feature will be effective or not. Companies often analyze users' responses to two variants of a product to decide which of the two variants is more effective. This experimental technique is known as a/b testing that is used to determine whether a new feature attracts users based on a chosen metric.\n",
    "\n",
    "Suppose you are hired as a Data Scientist in E-news Express. The design team of the company has created a new landing page. You have been assigned the task to decide whether the new landing page is more effective to gather new subscribers. Suppose you randomly selected 100 users and divided them equally into two groups. The old landing page is served to the first group (control group) and the new landing page is served to the second group (treatment group). Various data about the customers in both groups are collected in 'abtest.csv'. Perform the statistical analysis to answer the following questions using the collected data."
   ]
  },
  {
   "cell_type": "markdown",
   "id": "a6a3d218",
   "metadata": {
    "id": "a6a3d218"
   },
   "source": [
    "## Import all the necessary libraries"
   ]
  },
  {
   "cell_type": "code",
   "execution_count": 1,
   "id": "658c5dec",
   "metadata": {
    "id": "658c5dec"
   },
   "outputs": [],
   "source": [
    "import numpy as np\n",
    "import pandas as pd\n",
    "from matplotlib import pyplot as plt\n",
    "import seaborn as sns\n",
    "\n",
    "sns.set(color_codes=True) # adds a nice background to the graphs\n",
    "%matplotlib inline \n",
    "\n",
    "#import warnings so to ignore Python warnings\n",
    "import warnings\n",
    "warnings.filterwarnings('ignore')"
   ]
  },
  {
   "cell_type": "markdown",
   "id": "9d75cfa2",
   "metadata": {
    "id": "9d75cfa2"
   },
   "source": [
    "## 1. Explore the dataset and extract insights using Exploratory Data Analysis. (10 Marks)"
   ]
  },
  {
   "cell_type": "markdown",
   "id": "27201534",
   "metadata": {
    "id": "27201534"
   },
   "source": [
    "### Exploratory Data Analysis - Step by step approach\n",
    "\n",
    "Typical Data exploration activity consists of the following steps:\n",
    "1.\tImporting Data\n",
    "2.\tVariable Identification\n",
    "3.  Variable Transformation/Feature Creation\n",
    "4.  Missing value detection\n",
    "5.\tUnivariate Analysis\n",
    "6.\tBivariate Analysis"
   ]
  },
  {
   "cell_type": "markdown",
   "id": "6970dd99",
   "metadata": {
    "id": "6970dd99"
   },
   "source": [
    "### Reading the Data into a DataFrame"
   ]
  },
  {
   "cell_type": "code",
   "execution_count": 2,
   "id": "d3b95640",
   "metadata": {
    "id": "d3b95640"
   },
   "outputs": [],
   "source": [
    "# write the code for reading the dataset abtest.csv\n",
    "df = pd.read_csv('abtest.csv')"
   ]
  },
  {
   "cell_type": "markdown",
   "id": "a4e471fd",
   "metadata": {
    "id": "a4e471fd"
   },
   "source": [
    "### Data Overview\n",
    "- View a few rows of the data frame.\n",
    "- Check the shape and data types of the data frame. Add observations.\n",
    "- Fix the data-types (if needed).\n",
    "- Missing Value Check.\n",
    "- Summary statistics from the data frame. Add observations."
   ]
  },
  {
   "cell_type": "markdown",
   "id": "497d8d86",
   "metadata": {},
   "source": [
    "### View first 5 rows of dataframe."
   ]
  },
  {
   "cell_type": "code",
   "execution_count": 3,
   "id": "e1ad11d4",
   "metadata": {
    "id": "e1ad11d4",
    "scrolled": true
   },
   "outputs": [
    {
     "data": {
      "text/html": [
       "<div>\n",
       "<style scoped>\n",
       "    .dataframe tbody tr th:only-of-type {\n",
       "        vertical-align: middle;\n",
       "    }\n",
       "\n",
       "    .dataframe tbody tr th {\n",
       "        vertical-align: top;\n",
       "    }\n",
       "\n",
       "    .dataframe thead th {\n",
       "        text-align: right;\n",
       "    }\n",
       "</style>\n",
       "<table border=\"1\" class=\"dataframe\">\n",
       "  <thead>\n",
       "    <tr style=\"text-align: right;\">\n",
       "      <th></th>\n",
       "      <th>user_id</th>\n",
       "      <th>group</th>\n",
       "      <th>landing_page</th>\n",
       "      <th>time_spent_on_the_page</th>\n",
       "      <th>converted</th>\n",
       "      <th>language_preferred</th>\n",
       "    </tr>\n",
       "  </thead>\n",
       "  <tbody>\n",
       "    <tr>\n",
       "      <th>0</th>\n",
       "      <td>546592</td>\n",
       "      <td>control</td>\n",
       "      <td>old</td>\n",
       "      <td>3.48</td>\n",
       "      <td>no</td>\n",
       "      <td>Spanish</td>\n",
       "    </tr>\n",
       "    <tr>\n",
       "      <th>1</th>\n",
       "      <td>546468</td>\n",
       "      <td>treatment</td>\n",
       "      <td>new</td>\n",
       "      <td>7.13</td>\n",
       "      <td>yes</td>\n",
       "      <td>English</td>\n",
       "    </tr>\n",
       "    <tr>\n",
       "      <th>2</th>\n",
       "      <td>546462</td>\n",
       "      <td>treatment</td>\n",
       "      <td>new</td>\n",
       "      <td>4.40</td>\n",
       "      <td>no</td>\n",
       "      <td>Spanish</td>\n",
       "    </tr>\n",
       "    <tr>\n",
       "      <th>3</th>\n",
       "      <td>546567</td>\n",
       "      <td>control</td>\n",
       "      <td>old</td>\n",
       "      <td>3.02</td>\n",
       "      <td>no</td>\n",
       "      <td>French</td>\n",
       "    </tr>\n",
       "    <tr>\n",
       "      <th>4</th>\n",
       "      <td>546459</td>\n",
       "      <td>treatment</td>\n",
       "      <td>new</td>\n",
       "      <td>4.75</td>\n",
       "      <td>yes</td>\n",
       "      <td>Spanish</td>\n",
       "    </tr>\n",
       "  </tbody>\n",
       "</table>\n",
       "</div>"
      ],
      "text/plain": [
       "   user_id      group landing_page  time_spent_on_the_page converted  \\\n",
       "0   546592    control          old                    3.48        no   \n",
       "1   546468  treatment          new                    7.13       yes   \n",
       "2   546462  treatment          new                    4.40        no   \n",
       "3   546567    control          old                    3.02        no   \n",
       "4   546459  treatment          new                    4.75       yes   \n",
       "\n",
       "  language_preferred  \n",
       "0            Spanish  \n",
       "1            English  \n",
       "2            Spanish  \n",
       "3             French  \n",
       "4            Spanish  "
      ]
     },
     "execution_count": 3,
     "metadata": {},
     "output_type": "execute_result"
    }
   ],
   "source": [
    "df.head()"
   ]
  },
  {
   "cell_type": "markdown",
   "id": "971dbf4e",
   "metadata": {},
   "source": [
    "### Check shape and data types of data frame. "
   ]
  },
  {
   "cell_type": "code",
   "execution_count": 4,
   "id": "ca5c59a1",
   "metadata": {
    "scrolled": true
   },
   "outputs": [
    {
     "data": {
      "text/plain": [
       "(100, 6)"
      ]
     },
     "execution_count": 4,
     "metadata": {},
     "output_type": "execute_result"
    }
   ],
   "source": [
    "df.shape"
   ]
  },
  {
   "cell_type": "code",
   "execution_count": 5,
   "id": "bb78ca99",
   "metadata": {
    "scrolled": false
   },
   "outputs": [
    {
     "data": {
      "text/plain": [
       "user_id                     int64\n",
       "group                      object\n",
       "landing_page               object\n",
       "time_spent_on_the_page    float64\n",
       "converted                  object\n",
       "language_preferred         object\n",
       "dtype: object"
      ]
     },
     "execution_count": 5,
     "metadata": {},
     "output_type": "execute_result"
    }
   ],
   "source": [
    "df.dtypes"
   ]
  },
  {
   "cell_type": "markdown",
   "id": "3cf1b713",
   "metadata": {},
   "source": [
    "#### Observations\n",
    "- The shape of the dataframe is 100 rows and 6 columns.<br>\n",
    "- The data types include integers, objects, and floats."
   ]
  },
  {
   "cell_type": "markdown",
   "id": "4b6184ae",
   "metadata": {},
   "source": [
    "### Change object data types to category types to save storage."
   ]
  },
  {
   "cell_type": "code",
   "execution_count": 6,
   "id": "ad339b57",
   "metadata": {},
   "outputs": [],
   "source": [
    "df[\"group\"]=df.group.astype(\"category\")\n",
    "df[\"landing_page\"]=df.landing_page.astype(\"category\")\n",
    "df[\"converted\"]=df.converted.astype(\"category\")\n",
    "df[\"language_preferred\"]=df.language_preferred.astype(\"category\")"
   ]
  },
  {
   "cell_type": "markdown",
   "id": "5d987ca0",
   "metadata": {},
   "source": [
    "### Missing value check."
   ]
  },
  {
   "cell_type": "code",
   "execution_count": 7,
   "id": "44454230",
   "metadata": {},
   "outputs": [
    {
     "data": {
      "text/plain": [
       "0"
      ]
     },
     "execution_count": 7,
     "metadata": {},
     "output_type": "execute_result"
    }
   ],
   "source": [
    "df.isnull().values.sum()"
   ]
  },
  {
   "cell_type": "markdown",
   "id": "765cf487",
   "metadata": {},
   "source": [
    "#### Observations:\n",
    "There are no missing values in the data frame."
   ]
  },
  {
   "cell_type": "markdown",
   "id": "9be5ad4c",
   "metadata": {},
   "source": [
    "### Summary statistics from the data frame. "
   ]
  },
  {
   "cell_type": "code",
   "execution_count": 8,
   "id": "9e7e0fa0",
   "metadata": {
    "scrolled": false
   },
   "outputs": [
    {
     "data": {
      "text/html": [
       "<div>\n",
       "<style scoped>\n",
       "    .dataframe tbody tr th:only-of-type {\n",
       "        vertical-align: middle;\n",
       "    }\n",
       "\n",
       "    .dataframe tbody tr th {\n",
       "        vertical-align: top;\n",
       "    }\n",
       "\n",
       "    .dataframe thead th {\n",
       "        text-align: right;\n",
       "    }\n",
       "</style>\n",
       "<table border=\"1\" class=\"dataframe\">\n",
       "  <thead>\n",
       "    <tr style=\"text-align: right;\">\n",
       "      <th></th>\n",
       "      <th>count</th>\n",
       "      <th>mean</th>\n",
       "      <th>std</th>\n",
       "      <th>min</th>\n",
       "      <th>25%</th>\n",
       "      <th>50%</th>\n",
       "      <th>75%</th>\n",
       "      <th>max</th>\n",
       "    </tr>\n",
       "  </thead>\n",
       "  <tbody>\n",
       "    <tr>\n",
       "      <th>user_id</th>\n",
       "      <td>100.0</td>\n",
       "      <td>546517.0000</td>\n",
       "      <td>52.295779</td>\n",
       "      <td>546443.00</td>\n",
       "      <td>546467.75</td>\n",
       "      <td>546492.500</td>\n",
       "      <td>546567.2500</td>\n",
       "      <td>546592.00</td>\n",
       "    </tr>\n",
       "    <tr>\n",
       "      <th>time_spent_on_the_page</th>\n",
       "      <td>100.0</td>\n",
       "      <td>5.3778</td>\n",
       "      <td>2.378166</td>\n",
       "      <td>0.19</td>\n",
       "      <td>3.88</td>\n",
       "      <td>5.415</td>\n",
       "      <td>7.0225</td>\n",
       "      <td>10.71</td>\n",
       "    </tr>\n",
       "  </tbody>\n",
       "</table>\n",
       "</div>"
      ],
      "text/plain": [
       "                        count         mean        std        min        25%  \\\n",
       "user_id                 100.0  546517.0000  52.295779  546443.00  546467.75   \n",
       "time_spent_on_the_page  100.0       5.3778   2.378166       0.19       3.88   \n",
       "\n",
       "                               50%          75%        max  \n",
       "user_id                 546492.500  546567.2500  546592.00  \n",
       "time_spent_on_the_page       5.415       7.0225      10.71  "
      ]
     },
     "execution_count": 8,
     "metadata": {},
     "output_type": "execute_result"
    }
   ],
   "source": [
    "df.describe().transpose()"
   ]
  },
  {
   "cell_type": "markdown",
   "id": "f1a7a744",
   "metadata": {},
   "source": [
    "#### Observations: \n",
    "1. The range of time spent on the page varies from 0.19 to 10.71; resulting in a difference of 10.52 between max and min visitors. <br>\n",
    "2. The mean time spent on the landing page is 5.3778. \n",
    "3. This sample contains data from 100 visitors to the page. \n",
    "4. Standard deviation is ~2.378"
   ]
  },
  {
   "cell_type": "markdown",
   "id": "68f3b2c9",
   "metadata": {
    "id": "68f3b2c9"
   },
   "source": [
    "### Univariate Analysis"
   ]
  },
  {
   "cell_type": "code",
   "execution_count": 9,
   "id": "588eb84c",
   "metadata": {
    "scrolled": true
   },
   "outputs": [
    {
     "data": {
      "text/html": [
       "<div>\n",
       "<style scoped>\n",
       "    .dataframe tbody tr th:only-of-type {\n",
       "        vertical-align: middle;\n",
       "    }\n",
       "\n",
       "    .dataframe tbody tr th {\n",
       "        vertical-align: top;\n",
       "    }\n",
       "\n",
       "    .dataframe thead th {\n",
       "        text-align: right;\n",
       "    }\n",
       "</style>\n",
       "<table border=\"1\" class=\"dataframe\">\n",
       "  <thead>\n",
       "    <tr style=\"text-align: right;\">\n",
       "      <th></th>\n",
       "      <th>user_id</th>\n",
       "      <th>time_spent_on_the_page</th>\n",
       "    </tr>\n",
       "    <tr>\n",
       "      <th>landing_page</th>\n",
       "      <th></th>\n",
       "      <th></th>\n",
       "    </tr>\n",
       "  </thead>\n",
       "  <tbody>\n",
       "    <tr>\n",
       "      <th>new</th>\n",
       "      <td>546467.5</td>\n",
       "      <td>6.2232</td>\n",
       "    </tr>\n",
       "    <tr>\n",
       "      <th>old</th>\n",
       "      <td>546566.5</td>\n",
       "      <td>4.5324</td>\n",
       "    </tr>\n",
       "  </tbody>\n",
       "</table>\n",
       "</div>"
      ],
      "text/plain": [
       "               user_id  time_spent_on_the_page\n",
       "landing_page                                  \n",
       "new           546467.5                  6.2232\n",
       "old           546566.5                  4.5324"
      ]
     },
     "execution_count": 9,
     "metadata": {},
     "output_type": "execute_result"
    }
   ],
   "source": [
    "df.groupby('landing_page').mean()"
   ]
  },
  {
   "cell_type": "markdown",
   "id": "6a91de70",
   "metadata": {},
   "source": [
    "#### Histogram combined with a boxplot showing time spent on the page."
   ]
  },
  {
   "cell_type": "code",
   "execution_count": 10,
   "id": "e5b5305f",
   "metadata": {
    "scrolled": false
   },
   "outputs": [
    {
     "data": {
      "image/png": "[encoded data removed]",
      "text/plain": [
       "<Figure size 432x288 with 2 Axes>"
      ]
     },
     "metadata": {},
     "output_type": "display_data"
    }
   ],
   "source": [
    "sns.set(style=\"ticks\")\n",
    "\n",
    "x = df['time_spent_on_the_page']\n",
    "\n",
    "f, (ax_box, ax_hist) = plt.subplots(2, sharex=True, \n",
    "                                    gridspec_kw={\"height_ratios\": (.25, 1)})\n",
    "\n",
    "sns.boxplot(x, ax=ax_box, showmeans=True, color=\"violet\").set(xlabel=None)\n",
    "sns.histplot(x, ax=ax_hist, kde=True, palette = \"winter\")\n",
    "\n",
    "ax_box.set(yticks=[])\n",
    "sns.despine(ax=ax_hist)\n",
    "sns.despine(ax=ax_box, left=True)\n",
    "plt.axvline(x=df.time_spent_on_the_page.mean(),\n",
    "            color='red')\n",
    "plt.axvline(x=df.time_spent_on_the_page.median(), \n",
    "            color='black')\n",
    "plt.xlabel('Time Spent on Page')\n",
    "plt.ylabel('Visitor Count');"
   ]
  },
  {
   "cell_type": "markdown",
   "id": "e098e91b",
   "metadata": {},
   "source": [
    "#### Observations:\n",
    "The time spent on the landing page no matter new or old seems to follow a fairly normal distribution with the mean sitting just above 5. We can check the mean just to be sure. "
   ]
  },
  {
   "cell_type": "code",
   "execution_count": 11,
   "id": "92a15ea8",
   "metadata": {},
   "outputs": [
    {
     "data": {
      "text/plain": [
       "5.377800000000002"
      ]
     },
     "execution_count": 11,
     "metadata": {},
     "output_type": "execute_result"
    }
   ],
   "source": [
    "# Display the mean time spent on the page.\n",
    "df['time_spent_on_the_page'].mean()"
   ]
  },
  {
   "cell_type": "markdown",
   "id": "1c13fe4d",
   "metadata": {},
   "source": [
    "#### Count Plot displaying number of conversions on new and old landing pages."
   ]
  },
  {
   "cell_type": "code",
   "execution_count": 12,
   "id": "8a76de77",
   "metadata": {
    "scrolled": false
   },
   "outputs": [
    {
     "data": {
      "image/png": "[encoded data removed]",
      "text/plain": [
       "<Figure size 432x288 with 1 Axes>"
      ]
     },
     "metadata": {},
     "output_type": "display_data"
    }
   ],
   "source": [
    "sns.countplot(df['converted'])\n",
    "plt.xlabel('Converted');"
   ]
  },
  {
   "cell_type": "markdown",
   "id": "efc35071",
   "metadata": {},
   "source": [
    "#### Observations:\n",
    "The total count of both new and old landing pages shows more visitors were converted than not."
   ]
  },
  {
   "cell_type": "markdown",
   "id": "2a85e34c",
   "metadata": {},
   "source": [
    "#### Count plot displaying number of visitors to new and old page; both are set at 50."
   ]
  },
  {
   "cell_type": "code",
   "execution_count": 13,
   "id": "364ebfdc",
   "metadata": {
    "scrolled": true
   },
   "outputs": [
    {
     "data": {
      "image/png": "[encoded data removed]",
      "text/plain": [
       "<Figure size 432x288 with 1 Axes>"
      ]
     },
     "metadata": {},
     "output_type": "display_data"
    }
   ],
   "source": [
    "sns.countplot(df['landing_page'])\n",
    "plt.xlabel('Landing Page')\n",
    "plt.ylabel('Count');"
   ]
  },
  {
   "cell_type": "markdown",
   "id": "051c60f0",
   "metadata": {},
   "source": [
    "#### Observations:\n",
    "Both new and old landing pages had the same number of visitors; meaning we had two independent samples of equal size with each totaling 50."
   ]
  },
  {
   "cell_type": "markdown",
   "id": "bddacd93",
   "metadata": {},
   "source": [
    "#### Pie chart depicting preferred languages of users to the site."
   ]
  },
  {
   "cell_type": "code",
   "execution_count": 14,
   "id": "6c22f1d8",
   "metadata": {},
   "outputs": [
    {
     "data": {
      "text/plain": [
       "language_preferred\n",
       "English    32\n",
       "French     34\n",
       "Spanish    34\n",
       "dtype: int64"
      ]
     },
     "execution_count": 14,
     "metadata": {},
     "output_type": "execute_result"
    }
   ],
   "source": [
    "language_sums = df.groupby('language_preferred').size()\n",
    "language_sums"
   ]
  },
  {
   "cell_type": "code",
   "execution_count": 15,
   "id": "7e5b6975",
   "metadata": {
    "scrolled": true
   },
   "outputs": [
    {
     "data": {
      "image/png": "[encoded data removed]",
      "text/plain": [
       "<Figure size 432x288 with 1 Axes>"
      ]
     },
     "metadata": {},
     "output_type": "display_data"
    }
   ],
   "source": [
    "plt.pie (df ['language_preferred'].value_counts(),\n",
    "         labels=['English','Spanish','French'], autopct='%.1f%%', shadow=True)\n",
    "plt.title('Preferred Languages');"
   ]
  },
  {
   "cell_type": "markdown",
   "id": "0ac979b7",
   "metadata": {},
   "source": [
    "#### Observations:\n",
    "Spanish and English were tied for most often preferred language on both new and old sites with French a very close 3rd\\."
   ]
  },
  {
   "cell_type": "markdown",
   "id": "fad2de2f",
   "metadata": {
    "id": "fad2de2f"
   },
   "source": [
    "### Bivariate Analysis\n",
    "#### Histogram displaying time spent on old and new landing pages. Mean lines added in dark orange for old and navy for new. "
   ]
  },
  {
   "cell_type": "code",
   "execution_count": 16,
   "id": "58e9a1d0",
   "metadata": {
    "id": "58e9a1d0",
    "scrolled": true
   },
   "outputs": [
    {
     "data": {
      "image/png": "[encoded data removed]",
      "text/plain": [
       "<Figure size 432x288 with 1 Axes>"
      ]
     },
     "metadata": {},
     "output_type": "display_data"
    }
   ],
   "source": [
    "sns.histplot(data=df, x = df['time_spent_on_the_page'], hue='landing_page', kde=True)\n",
    "plt.xlabel('Time Spent on the Landing Page')\n",
    "\n",
    "# Plot the mean of time spent on the new landing page with a navy line.\n",
    "x1 = df.groupby('landing_page').mean().iloc[0, 1]\n",
    "plt.axvline(x=x1,\n",
    "            color='navy')\n",
    "\n",
    "# Plot the mean of the time spent on the old landing page with a dark orange line.\n",
    "x2 = df.groupby('landing_page').mean().iloc[1, 1]\n",
    "plt.axvline(x=x2, \n",
    "            color = 'darkorange');"
   ]
  },
  {
   "cell_type": "markdown",
   "id": "c76592a8",
   "metadata": {},
   "source": [
    "#### Observations:\n",
    "The time spent on the new landing page mean is a bit higher than the mean of the time spent on the old landing page. The new page has a more normal distribution shifted toward a longer average time spent on the landing page than that of the old. The old is more varied and shifted (skewed) more to the left of the distribution depicting less time average spent on the landing page."
   ]
  },
  {
   "cell_type": "markdown",
   "id": "4e6b8c8a",
   "metadata": {},
   "source": [
    "#### A swarmplot showing similar data. Though it is not as helpful as the histogram. "
   ]
  },
  {
   "cell_type": "code",
   "execution_count": 17,
   "id": "68493756",
   "metadata": {
    "scrolled": true
   },
   "outputs": [
    {
     "data": {
      "image/png": "[encoded data removed]",
      "text/plain": [
       "<Figure size 432x288 with 1 Axes>"
      ]
     },
     "metadata": {},
     "output_type": "display_data"
    }
   ],
   "source": [
    "sns.swarmplot(data = df, x='landing_page', y ='time_spent_on_the_page');"
   ]
  },
  {
   "cell_type": "markdown",
   "id": "a1c32cb7",
   "metadata": {},
   "source": [
    "#### Observations:\n",
    "This swarmplot just gives a different visual of the time spent on both the old and new page. The time spent on the new page seems to cluster more on a longer range of time than that of the old page."
   ]
  },
  {
   "cell_type": "markdown",
   "id": "4c8cfb76",
   "metadata": {},
   "source": [
    "#### Box plot showing time spent on both old and new pages with the conversion shown as hue."
   ]
  },
  {
   "cell_type": "code",
   "execution_count": 18,
   "id": "0f96729c",
   "metadata": {
    "scrolled": true
   },
   "outputs": [
    {
     "data": {
      "image/png": "[encoded data removed]",
      "text/plain": [
       "<Figure size 432x288 with 1 Axes>"
      ]
     },
     "metadata": {},
     "output_type": "display_data"
    }
   ],
   "source": [
    "sns.boxplot(data = df,x='landing_page',y='time_spent_on_the_page', hue=df['converted'])\n",
    "plt.xlabel('Landing Page: Old or New')\n",
    "plt.ylabel('Time Spent on the Page');"
   ]
  },
  {
   "cell_type": "markdown",
   "id": "881873b5",
   "metadata": {},
   "source": [
    "### Observations:\n",
    "The average time spent on the new landing page is quite a bit longer as compared to the old page and it seems a larger number of those to the new page were converted."
   ]
  },
  {
   "cell_type": "markdown",
   "id": "25549137",
   "metadata": {},
   "source": [
    "#### Bar plot showing time spent on each landing page and the conversion rate of each."
   ]
  },
  {
   "cell_type": "code",
   "execution_count": 19,
   "id": "e648dcaf",
   "metadata": {
    "scrolled": true
   },
   "outputs": [
    {
     "data": {
      "image/png": "[encoded data removed]",
      "text/plain": [
       "<Figure size 432x288 with 1 Axes>"
      ]
     },
     "metadata": {},
     "output_type": "display_data"
    }
   ],
   "source": [
    "sns.barplot(data=df, x='landing_page', y='time_spent_on_the_page', hue='converted')\n",
    "plt.xlabel('Landing Page')\n",
    "plt.ylabel('Time Spent on the Page');"
   ]
  },
  {
   "cell_type": "markdown",
   "id": "b0b1706d",
   "metadata": {},
   "source": [
    "### Observations:\n",
    "The barplot shows that not only are visitors spending a longer average time on the new page, more of them are being converted."
   ]
  },
  {
   "cell_type": "markdown",
   "id": "27906576",
   "metadata": {
    "id": "27906576"
   },
   "source": [
    "## 2. Do the users spend more time on the new landing page than the existing landing page? (10 Marks)"
   ]
  },
  {
   "cell_type": "markdown",
   "id": "e5fdf0c8",
   "metadata": {
    "id": "e5fdf0c8"
   },
   "source": [
    "### Perform Visual Analysis"
   ]
  },
  {
   "cell_type": "code",
   "execution_count": 20,
   "id": "fbcb861f",
   "metadata": {},
   "outputs": [
    {
     "data": {
      "image/png": "[encoded data removed]",
      "text/plain": [
       "<Figure size 432x288 with 1 Axes>"
      ]
     },
     "metadata": {},
     "output_type": "display_data"
    }
   ],
   "source": [
    "sns.boxplot(x=df['landing_page'], y=df['time_spent_on_the_page']); \n",
    "plt.xlabel('Landing Page')\n",
    "plt.ylabel('Time Spent on the Page')\n",
    "plt.title('Box Plot Depicting Time Spent on New & Old Landing Pages');"
   ]
  },
  {
   "cell_type": "markdown",
   "id": "1f367e59",
   "metadata": {},
   "source": [
    "#### First check the standard deviation of the time spent on both the old and new pages."
   ]
  },
  {
   "cell_type": "code",
   "execution_count": 21,
   "id": "6eZJa41eg21n",
   "metadata": {
    "id": "6eZJa41eg21n",
    "scrolled": true
   },
   "outputs": [
    {
     "name": "stdout",
     "output_type": "stream",
     "text": [
      "The standard deviation of time spent on the new page is 1.82.\n",
      "The standard deviation of time spent on the old page is 2.58.\n"
     ]
    }
   ],
   "source": [
    "new_std = df.groupby('landing_page').std().iloc[0, 1].round(2)\n",
    "old_std = df.groupby('landing_page').std().iloc[1, 1].round(2)\n",
    "print('The standard deviation of time spent on the new page is '+ str(new_std) + '.')\n",
    "print('The standard deviation of time spent on the old page is '+ str(old_std) + '.')"
   ]
  },
  {
   "cell_type": "markdown",
   "id": "97c55b93",
   "metadata": {},
   "source": [
    "#### Now determine the mean of the time spent on both the old and new page."
   ]
  },
  {
   "cell_type": "code",
   "execution_count": 22,
   "id": "e93d70b5",
   "metadata": {},
   "outputs": [
    {
     "name": "stdout",
     "output_type": "stream",
     "text": [
      "The mean of time spent on the new page is 6.22.\n",
      "The mean of time spent on the old page is 4.53.\n"
     ]
    }
   ],
   "source": [
    "new_mean = df.groupby('landing_page').mean().iloc[0, 1].round(2)\n",
    "old_mean = df.groupby('landing_page').mean().iloc[1, 1].round(2)\n",
    "print('The mean of time spent on the new page is '+ str(new_mean) + '.')\n",
    "print('The mean of time spent on the old page is '+ str(old_mean) + '.')"
   ]
  },
  {
   "cell_type": "markdown",
   "id": "56b3dafd",
   "metadata": {
    "id": "56b3dafd"
   },
   "source": [
    "### Step 1: Define the null and alternate hypotheses"
   ]
  },
  {
   "cell_type": "markdown",
   "id": "d2ac77ef",
   "metadata": {
    "id": "d2ac77ef"
   },
   "source": [
    "* H<sub>0</sub>: $\\mu_1 = \\mu_2$ (The average time spent on the old landing page and new landing page is not different.)\n",
    "* H<sub>1</sub>: $\\mu_1 < \\mu_2$ (The average time spent on the old landing page is less than the average time spent on the new landing page.)"
   ]
  },
  {
   "cell_type": "markdown",
   "id": "c7ee4907",
   "metadata": {
    "id": "c7ee4907"
   },
   "source": [
    "### Step 2: Select Appropriate test"
   ]
  },
  {
   "cell_type": "markdown",
   "id": "427069a0",
   "metadata": {},
   "source": [
    "- Though the standard deviations are known, they are not close to being equal. \n",
    "- Our data is continuous and normally distributed.\n",
    "- The two samples are independent of each other. \n",
    "- A two sample z-test would be the proper test for this analysis.\n"
   ]
  },
  {
   "cell_type": "markdown",
   "id": "3f58c9a7",
   "metadata": {
    "id": "3f58c9a7"
   },
   "source": [
    "### Step 3: Decide the significance level"
   ]
  },
  {
   "cell_type": "markdown",
   "id": "92d7d7ee",
   "metadata": {
    "id": "92d7d7ee"
   },
   "source": [
    "We will test at an 0.05 significance level to determine whether or not the average time spent on the old page is  less than the time spent on the new page."
   ]
  },
  {
   "cell_type": "markdown",
   "id": "5fed2eac",
   "metadata": {
    "id": "5fed2eac"
   },
   "source": [
    "### Step 4: Collect and prepare data"
   ]
  },
  {
   "cell_type": "code",
   "execution_count": 23,
   "id": "54544b0e",
   "metadata": {},
   "outputs": [],
   "source": [
    "# Locate the proper samples for the new and old landing pages. \n",
    "samp_one = df.loc[df['landing_page'] == 'new']\n",
    "samp_one = samp_one['time_spent_on_the_page']\n",
    "\n",
    "samp_two = df.loc[df['landing_page'] == 'old']\n",
    "samp_two = samp_two['time_spent_on_the_page']"
   ]
  },
  {
   "cell_type": "markdown",
   "id": "f5c5258d",
   "metadata": {
    "id": "f5c5258d"
   },
   "source": [
    "### Step 5: Calculate the p-value"
   ]
  },
  {
   "cell_type": "code",
   "execution_count": 24,
   "id": "d36b5b2f",
   "metadata": {},
   "outputs": [],
   "source": [
    "# user-defined function to compare the equality of two means from two independent populations, where population standard deviations are known\n",
    "# this function returns the p-value for one tailed test\n",
    "# for two-tailed test, multiply the p-value by 2\n",
    "# To know more about the derivation of test statistic and standard error formula, please refer to the monographs and additional materials\n",
    "def ztest_2samp(X1, X2, pop_sd1, pop_sd2, n1, n2):\n",
    "    '''\n",
    "    X1 - first of the two independent samples (sample 1)\n",
    "    X2 - second of the two independent samples (sample 2)\n",
    "    pop_sd1 - population standard deviation of sample 1\n",
    "    pop_sd2 - population standard deviation of sample 2\n",
    "    n1 - size of sample 1\n",
    "    n2 - size of sample 2\n",
    "    '''\n",
    "    from numpy import sqrt, abs # import the required functions\n",
    "    from scipy.stats import norm # import the required function\n",
    "    se = sqrt(pop_sd1**2/n1 + pop_sd2**2/n2) # calculate the standard error\n",
    "    test_stat = ((X1.mean() - X2.mean()) - 0)/ se # calculate the test statistic\n",
    "    pval = 1 - norm.cdf(abs(test_stat)) # calculate the one-tailed p-value\n",
    "    return pval # return the p-value"
   ]
  },
  {
   "cell_type": "code",
   "execution_count": 25,
   "id": "e84e7e34",
   "metadata": {
    "id": "fac8594a"
   },
   "outputs": [
    {
     "name": "stdout",
     "output_type": "stream",
     "text": [
      "The P-value is 7.634426865454902e-05\n"
     ]
    }
   ],
   "source": [
    "# find the p-value using the ztest_2samp() function\n",
    "p_value = ztest_2samp(samp_one, samp_two, 1.82, 2.58, 50 ,50)\n",
    "print('The P-value is', p_value)"
   ]
  },
  {
   "cell_type": "markdown",
   "id": "359b12f8",
   "metadata": {
    "id": "359b12f8"
   },
   "source": [
    "### Step 6: Compare the p-value with $\\alpha$"
   ]
  },
  {
   "cell_type": "markdown",
   "id": "57d9672f",
   "metadata": {
    "id": "7be47289"
   },
   "source": [
    "This p-value of 7.634426865454902e-05 is significantly smaller than the $\\alpha$ (level of significance) of 0.05."
   ]
  },
  {
   "cell_type": "markdown",
   "id": "d9affc84",
   "metadata": {
    "id": "d9affc84"
   },
   "source": [
    "### Step 7:  Draw inference"
   ]
  },
  {
   "cell_type": "markdown",
   "id": "6b16dd4b",
   "metadata": {
    "id": "6b16dd4b"
   },
   "source": [
    "Since the p-value is below $\\alpha$ we will reject the null hypothesis that there is no time difference between the old and new landing pages. This would likely mean that the average time spent on the new landing page is greater than the time spent on the old page."
   ]
  },
  {
   "cell_type": "markdown",
   "id": "353e9d24",
   "metadata": {
    "id": "353e9d24"
   },
   "source": [
    "## 3. Is the conversion rate (the proportion of users who visit the landing page and get converted) for the new page greater than the conversion rate for the old page? (10 Marks)"
   ]
  },
  {
   "cell_type": "markdown",
   "id": "2a90b80c",
   "metadata": {
    "id": "e5fdf0c8"
   },
   "source": [
    "### Perform Visual Analysis"
   ]
  },
  {
   "cell_type": "code",
   "execution_count": 26,
   "id": "30c7ad16",
   "metadata": {
    "scrolled": true
   },
   "outputs": [
    {
     "data": {
      "text/plain": [
       "landing_page  converted\n",
       "new           no           17\n",
       "              yes          33\n",
       "old           no           29\n",
       "              yes          21\n",
       "dtype: int64"
      ]
     },
     "execution_count": 26,
     "metadata": {},
     "output_type": "execute_result"
    }
   ],
   "source": [
    "df.groupby(['landing_page', 'converted']).size()"
   ]
  },
  {
   "cell_type": "code",
   "execution_count": 27,
   "id": "cc47d85f",
   "metadata": {},
   "outputs": [
    {
     "data": {
      "image/png": "[encoded data removed]",
      "text/plain": [
       "<Figure size 432x288 with 1 Axes>"
      ]
     },
     "metadata": {},
     "output_type": "display_data"
    }
   ],
   "source": [
    "sns.countplot(df['landing_page'], hue=df['converted'])\n",
    "plt.xlabel('Landing Page')\n",
    "plt.ylabel('Count')\n",
    "plt.title('Conversion Rate of New and Old Landing Pages');"
   ]
  },
  {
   "cell_type": "markdown",
   "id": "7db64b70",
   "metadata": {},
   "source": [
    "#### Observations;\n",
    "Conversion rate on the new page seems to be much higher than that of the old in the visual analysis."
   ]
  },
  {
   "cell_type": "markdown",
   "id": "57569acc",
   "metadata": {
    "id": "56b3dafd"
   },
   "source": [
    "### Step 1: Define the null and alternate hypotheses"
   ]
  },
  {
   "cell_type": "markdown",
   "id": "57e8b35e",
   "metadata": {
    "id": "d2ac77ef"
   },
   "source": [
    "* H<sub>0</sub>: $p_1 = p_2$ (The conversion rate for the new and old landing pages are the same.)\n",
    "* H<sub>1</sub>: $p_1 > p_2$ (The conversion rate for the new page is greater than the conversion rate for the old page.)"
   ]
  },
  {
   "cell_type": "markdown",
   "id": "f5a9984d",
   "metadata": {
    "id": "c7ee4907"
   },
   "source": [
    "### Step 2: Select Appropriate test"
   ]
  },
  {
   "cell_type": "markdown",
   "id": "f85b98b4",
   "metadata": {},
   "source": [
    "- Binomally distributed population \n",
    "- Random sampling from the population\n",
    "- The two samples are independent of each other.\n",
    "- Check whether np and n(1-p) are greater than or equal to 10."
   ]
  },
  {
   "cell_type": "markdown",
   "id": "9f4482e1",
   "metadata": {},
   "source": [
    ">$np_1 = 50\\cdot \\frac{33}{50} =33 \\geq 10\\\\\n",
    "n(1-p_1) = 50 \\cdot \\frac{50-33}{50} =17 \\geq 10 \\\\\n",
    "np_2 = 50\\cdot \\frac{21}{50} =21 \\geq 10\\\\\n",
    "n(1-p_2) = 50 \\cdot \\frac{50-21}{50} =29 \\geq 10 $"
   ]
  },
  {
   "cell_type": "markdown",
   "id": "3cd79e01",
   "metadata": {},
   "source": [
    "We can use the two proportions z-test for this statistic."
   ]
  },
  {
   "cell_type": "markdown",
   "id": "39b1d1a5",
   "metadata": {
    "id": "3f58c9a7"
   },
   "source": [
    "### Step 3: Decide the significance level"
   ]
  },
  {
   "cell_type": "markdown",
   "id": "63192c98",
   "metadata": {
    "id": "92d7d7ee"
   },
   "source": [
    "We will test at an 0.05 significance level to determine whether the conversion rate of the old and new pages are different."
   ]
  },
  {
   "cell_type": "markdown",
   "id": "74cbd2d0",
   "metadata": {
    "id": "5fed2eac"
   },
   "source": [
    "### Step 4: Collect and prepare data"
   ]
  },
  {
   "cell_type": "code",
   "execution_count": 28,
   "id": "e3f1cb50",
   "metadata": {
    "scrolled": true
   },
   "outputs": [],
   "source": [
    "conversion = df.groupby(['landing_page', 'converted']).size().to_frame()\n",
    "conversion = conversion.reset_index()"
   ]
  },
  {
   "cell_type": "markdown",
   "id": "ab89817c",
   "metadata": {
    "id": "f5c5258d"
   },
   "source": [
    "### Step 5: Calculate the p-value"
   ]
  },
  {
   "cell_type": "code",
   "execution_count": 29,
   "id": "75810f2d",
   "metadata": {},
   "outputs": [
    {
     "name": "stdout",
     "output_type": "stream",
     "text": [
      "The p-value is 0.016052616408112556\n"
     ]
    }
   ],
   "source": [
    "# import the required fuction\n",
    "from statsmodels.stats.proportion import proportions_ztest\n",
    "\n",
    "# set the counts of defective items\n",
    "conversion_count = np.array([21, 33])\n",
    "\n",
    "# set the sample sizes\n",
    "nobs = np.array([50, 50])\n",
    "\n",
    "# find the p-value\n",
    "test_stat, p_value = proportions_ztest(conversion_count, nobs)\n",
    "print('The p-value is ' + str(p_value))"
   ]
  },
  {
   "cell_type": "markdown",
   "id": "7cd3074c",
   "metadata": {
    "id": "359b12f8"
   },
   "source": [
    "### Step 6: Compare the p-value with $\\alpha$"
   ]
  },
  {
   "cell_type": "markdown",
   "id": "43ab3e1d",
   "metadata": {
    "id": "7be47289"
   },
   "source": [
    "This p-value of ~0.016 is smaller than the $\\alpha$ (level of significance) of 0.05."
   ]
  },
  {
   "cell_type": "markdown",
   "id": "d7fab7e8",
   "metadata": {
    "id": "d9affc84"
   },
   "source": [
    "### Step 7:  Draw inference"
   ]
  },
  {
   "cell_type": "markdown",
   "id": "bbb0d734",
   "metadata": {
    "id": "6b16dd4b"
   },
   "source": [
    "Since the p-value is below $\\alpha$ we will reject the null hypothesis that the conversion rate between the old and the new page are the same. "
   ]
  },
  {
   "cell_type": "markdown",
   "id": "d49bfa2d",
   "metadata": {
    "id": "d49bfa2d"
   },
   "source": [
    "## 4. Is the conversion and preferred language are independent or related? (10 Marks)"
   ]
  },
  {
   "cell_type": "markdown",
   "id": "b473ed28",
   "metadata": {
    "id": "e5fdf0c8"
   },
   "source": [
    "### Perform Visual Analysis"
   ]
  },
  {
   "cell_type": "code",
   "execution_count": 30,
   "id": "551156af",
   "metadata": {
    "scrolled": true
   },
   "outputs": [
    {
     "data": {
      "image/png": "[encoded data removed]",
      "text/plain": [
       "<Figure size 432x288 with 1 Axes>"
      ]
     },
     "metadata": {},
     "output_type": "display_data"
    }
   ],
   "source": [
    "sns.countplot(df['language_preferred'], hue=df['converted'])\n",
    "plt.xlabel('Preferred Language')\n",
    "plt.ylabel('Count')\n",
    "plt.title('Conversion Rate of Preferred Languages');"
   ]
  },
  {
   "cell_type": "markdown",
   "id": "3e73c5cd",
   "metadata": {},
   "source": [
    "#### Observations: \n",
    "It is difficult to tell from the graphic if conversion is related/dependent upon preferred language."
   ]
  },
  {
   "cell_type": "markdown",
   "id": "27d7aafc",
   "metadata": {
    "id": "56b3dafd"
   },
   "source": [
    "### Step 1: Define the null and alternate hypotheses"
   ]
  },
  {
   "cell_type": "markdown",
   "id": "c0499302",
   "metadata": {
    "id": "d2ac77ef"
   },
   "source": [
    "* >$H_0:$ Conversion rate is independent of preferred language.\n",
    "* >$H_a:$ Conversion rate is not independent of preferred language."
   ]
  },
  {
   "cell_type": "markdown",
   "id": "7cd2760a",
   "metadata": {
    "id": "c7ee4907"
   },
   "source": [
    "### Step 2: Select Appropriate test"
   ]
  },
  {
   "cell_type": "markdown",
   "id": "6e6a0d3c",
   "metadata": {},
   "source": [
    "- We have two categorical variables.\n",
    "- There are at least 5 sample observations in each level of the variable.\n",
    "- This is a random sampling from the population.\n",
    "- A Chi-Square Test for Independence is appropriate here. "
   ]
  },
  {
   "cell_type": "markdown",
   "id": "18fe55d2",
   "metadata": {
    "id": "3f58c9a7"
   },
   "source": [
    "### Step 3: Decide the significance level"
   ]
  },
  {
   "cell_type": "markdown",
   "id": "adc3ec92",
   "metadata": {
    "id": "92d7d7ee"
   },
   "source": [
    "We will test at an 0.05 significance level to determine whether or not the conversion rate is not dependent of the preferred language."
   ]
  },
  {
   "cell_type": "markdown",
   "id": "a448216f",
   "metadata": {
    "id": "5fed2eac"
   },
   "source": [
    "### Step 4: Collect and prepare data"
   ]
  },
  {
   "cell_type": "code",
   "execution_count": 31,
   "id": "6cc676a3",
   "metadata": {
    "scrolled": true
   },
   "outputs": [
    {
     "data": {
      "text/html": [
       "<div>\n",
       "<style scoped>\n",
       "    .dataframe tbody tr th:only-of-type {\n",
       "        vertical-align: middle;\n",
       "    }\n",
       "\n",
       "    .dataframe tbody tr th {\n",
       "        vertical-align: top;\n",
       "    }\n",
       "\n",
       "    .dataframe thead th {\n",
       "        text-align: right;\n",
       "    }\n",
       "</style>\n",
       "<table border=\"1\" class=\"dataframe\">\n",
       "  <thead>\n",
       "    <tr style=\"text-align: right;\">\n",
       "      <th>language_preferred</th>\n",
       "      <th>English</th>\n",
       "      <th>French</th>\n",
       "      <th>Spanish</th>\n",
       "    </tr>\n",
       "    <tr>\n",
       "      <th>converted</th>\n",
       "      <th></th>\n",
       "      <th></th>\n",
       "      <th></th>\n",
       "    </tr>\n",
       "  </thead>\n",
       "  <tbody>\n",
       "    <tr>\n",
       "      <th>no</th>\n",
       "      <td>11</td>\n",
       "      <td>19</td>\n",
       "      <td>16</td>\n",
       "    </tr>\n",
       "    <tr>\n",
       "      <th>yes</th>\n",
       "      <td>21</td>\n",
       "      <td>15</td>\n",
       "      <td>18</td>\n",
       "    </tr>\n",
       "  </tbody>\n",
       "</table>\n",
       "</div>"
      ],
      "text/plain": [
       "language_preferred  English  French  Spanish\n",
       "converted                                   \n",
       "no                       11      19       16\n",
       "yes                      21      15       18"
      ]
     },
     "execution_count": 31,
     "metadata": {},
     "output_type": "execute_result"
    }
   ],
   "source": [
    "df2 = df.copy()\n",
    "conversion_lang = df2.groupby(['converted', 'language_preferred']).size().to_frame()\n",
    "conversion_lang.reset_index(inplace=True)\n",
    "conversion_lang.columns=['converted', 'language_preferred', 'count']\n",
    "df_pivot = conversion_lang.pivot(index='converted', columns=['language_preferred'], values='count')\n",
    "df_pivot"
   ]
  },
  {
   "cell_type": "code",
   "execution_count": 32,
   "id": "4d69d741",
   "metadata": {
    "scrolled": true
   },
   "outputs": [
    {
     "data": {
      "text/html": [
       "<div>\n",
       "<style scoped>\n",
       "    .dataframe tbody tr th:only-of-type {\n",
       "        vertical-align: middle;\n",
       "    }\n",
       "\n",
       "    .dataframe tbody tr th {\n",
       "        vertical-align: top;\n",
       "    }\n",
       "\n",
       "    .dataframe thead th {\n",
       "        text-align: right;\n",
       "    }\n",
       "</style>\n",
       "<table border=\"1\" class=\"dataframe\">\n",
       "  <thead>\n",
       "    <tr style=\"text-align: right;\">\n",
       "      <th></th>\n",
       "      <th>Converted</th>\n",
       "      <th>English</th>\n",
       "      <th>French</th>\n",
       "      <th>Spanish</th>\n",
       "    </tr>\n",
       "  </thead>\n",
       "  <tbody>\n",
       "    <tr>\n",
       "      <th>0</th>\n",
       "      <td>No</td>\n",
       "      <td>11</td>\n",
       "      <td>19</td>\n",
       "      <td>16</td>\n",
       "    </tr>\n",
       "    <tr>\n",
       "      <th>1</th>\n",
       "      <td>Yes</td>\n",
       "      <td>21</td>\n",
       "      <td>15</td>\n",
       "      <td>18</td>\n",
       "    </tr>\n",
       "  </tbody>\n",
       "</table>\n",
       "</div>"
      ],
      "text/plain": [
       "  Converted  English  French  Spanish\n",
       "0        No       11      19       16\n",
       "1       Yes       21      15       18"
      ]
     },
     "execution_count": 32,
     "metadata": {},
     "output_type": "execute_result"
    }
   ],
   "source": [
    "df3 = {'Converted': ['No', 'Yes'], 'English': [11, 21], 'French': [19, 15], 'Spanish': [16, 18]}\n",
    "df3 = pd.DataFrame(df3)  \n",
    "df3"
   ]
  },
  {
   "cell_type": "markdown",
   "id": "64873a0b",
   "metadata": {
    "id": "f5c5258d"
   },
   "source": [
    "### Step 5: Calculate the p-value"
   ]
  },
  {
   "cell_type": "code",
   "execution_count": 33,
   "id": "c055e442",
   "metadata": {},
   "outputs": [
    {
     "name": "stdout",
     "output_type": "stream",
     "text": [
      "The p-value is 0.21298887487543447\n"
     ]
    }
   ],
   "source": [
    "# import the required function\n",
    "from scipy.stats import chi2_contingency\n",
    "\n",
    "# find the p-value\n",
    "chi, p_value, dof, expected = chi2_contingency(df3.drop('Converted', axis = 1))\n",
    "print('The p-value is', p_value)"
   ]
  },
  {
   "cell_type": "markdown",
   "id": "1edaf933",
   "metadata": {
    "id": "359b12f8"
   },
   "source": [
    "### Step 6: Compare the p-value with $\\alpha$"
   ]
  },
  {
   "cell_type": "markdown",
   "id": "623ddb7a",
   "metadata": {
    "id": "7be47289"
   },
   "source": [
    "This p-value of 0.21298887487543447 is greater than the $\\alpha$ (level of significance) of 0.05."
   ]
  },
  {
   "cell_type": "markdown",
   "id": "c4933bca",
   "metadata": {
    "id": "d9affc84"
   },
   "source": [
    "### Step 7:  Draw inference"
   ]
  },
  {
   "cell_type": "markdown",
   "id": "a58760c0",
   "metadata": {
    "id": "6b16dd4b"
   },
   "source": [
    "Since the p-value is above $\\alpha$ we will fail to reject the null hypothesis that conversion rate is independent of preferred language. So it seems the preferred language of the visitor has no relation to whether or not they are converted; at least statistically."
   ]
  },
  {
   "cell_type": "markdown",
   "id": "8d585a90",
   "metadata": {
    "id": "8d585a90"
   },
   "source": [
    "## 5. Is the time spent on the new page same for the different language users? (10 Marks)"
   ]
  },
  {
   "cell_type": "markdown",
   "id": "c8784c4b",
   "metadata": {
    "id": "e5fdf0c8"
   },
   "source": [
    "### Perform Visual Analysis"
   ]
  },
  {
   "cell_type": "code",
   "execution_count": 34,
   "id": "9f6e7f41",
   "metadata": {},
   "outputs": [
    {
     "data": {
      "image/png": "[encoded data removed]",
      "text/plain": [
       "<Figure size 432x288 with 1 Axes>"
      ]
     },
     "metadata": {},
     "output_type": "display_data"
    }
   ],
   "source": [
    "new_time = df.copy()\n",
    "new_time = new_time[new_time['landing_page'] == 'new']\n",
    "sns.boxplot(x=new_time['language_preferred'], y=new_time['time_spent_on_the_page'], showmeans=True)\n",
    "plt.xlabel('Preferred Language')\n",
    "plt.ylabel('Time Spent on Page')\n",
    "plt.title('Box Plot of Time Spent on New Page Per Language');"
   ]
  },
  {
   "cell_type": "code",
   "execution_count": 35,
   "id": "cb75116c",
   "metadata": {
    "scrolled": true
   },
   "outputs": [
    {
     "data": {
      "text/plain": [
       "French     17\n",
       "Spanish    17\n",
       "English    16\n",
       "Name: language_preferred, dtype: int64"
      ]
     },
     "execution_count": 35,
     "metadata": {},
     "output_type": "execute_result"
    }
   ],
   "source": [
    "# get the levels of factor preferred language.\n",
    "new_time['language_preferred'].value_counts()"
   ]
  },
  {
   "cell_type": "markdown",
   "id": "d73c034e",
   "metadata": {},
   "source": [
    "#### Observations:\n",
    "We have 3 levels of factors.\n",
    "In this question, preferred language is the factor and time spent on the page is the response."
   ]
  },
  {
   "cell_type": "markdown",
   "id": "a1365e97",
   "metadata": {
    "id": "56b3dafd"
   },
   "source": [
    "### Step 1: Define the null and alternate hypotheses"
   ]
  },
  {
   "cell_type": "markdown",
   "id": "7c869366",
   "metadata": {
    "id": "d2ac77ef"
   },
   "source": [
    "- >$H_0: \\mu_1 = \\mu_2 = \\mu_3$ (All preferred languages spend the same average time on the new page.)\n",
    "- >$H_a: $ At least one preferred language's average time spent on the new page is different from the rest."
   ]
  },
  {
   "cell_type": "markdown",
   "id": "5b59f557",
   "metadata": {
    "id": "c7ee4907"
   },
   "source": [
    "### Step 2: Select Appropriate test"
   ]
  },
  {
   "cell_type": "markdown",
   "id": "b159a2c7",
   "metadata": {},
   "source": [
    "- Populations are normally distributed.\n",
    "- Samples are independent simple random samples.\n",
    "- Population variances are equal. \n",
    "- A One-Way ANOVA test would be appropriate here."
   ]
  },
  {
   "cell_type": "markdown",
   "id": "9e328c95",
   "metadata": {
    "id": "3f58c9a7"
   },
   "source": [
    "### Step 3: Decide the significance level"
   ]
  },
  {
   "cell_type": "markdown",
   "id": "5dc88257",
   "metadata": {
    "id": "92d7d7ee"
   },
   "source": [
    "We will test at an 0.05 significance level to determine whether or not the average time spent on new page is the same for all language users."
   ]
  },
  {
   "cell_type": "markdown",
   "id": "03b91710",
   "metadata": {
    "id": "5fed2eac"
   },
   "source": [
    "### Step 4: Collect and prepare data"
   ]
  },
  {
   "cell_type": "markdown",
   "id": "e60297b6",
   "metadata": {},
   "source": [
    "We previously collected the data from the new page into a dataframe during our visual analysis. "
   ]
  },
  {
   "cell_type": "code",
   "execution_count": 36,
   "id": "bb9b9394",
   "metadata": {
    "scrolled": true
   },
   "outputs": [
    {
     "data": {
      "text/html": [
       "<div>\n",
       "<style scoped>\n",
       "    .dataframe tbody tr th:only-of-type {\n",
       "        vertical-align: middle;\n",
       "    }\n",
       "\n",
       "    .dataframe tbody tr th {\n",
       "        vertical-align: top;\n",
       "    }\n",
       "\n",
       "    .dataframe thead th {\n",
       "        text-align: right;\n",
       "    }\n",
       "</style>\n",
       "<table border=\"1\" class=\"dataframe\">\n",
       "  <thead>\n",
       "    <tr style=\"text-align: right;\">\n",
       "      <th></th>\n",
       "      <th>user_id</th>\n",
       "      <th>group</th>\n",
       "      <th>landing_page</th>\n",
       "      <th>time_spent_on_the_page</th>\n",
       "      <th>converted</th>\n",
       "      <th>language_preferred</th>\n",
       "    </tr>\n",
       "  </thead>\n",
       "  <tbody>\n",
       "    <tr>\n",
       "      <th>1</th>\n",
       "      <td>546468</td>\n",
       "      <td>treatment</td>\n",
       "      <td>new</td>\n",
       "      <td>7.13</td>\n",
       "      <td>yes</td>\n",
       "      <td>English</td>\n",
       "    </tr>\n",
       "    <tr>\n",
       "      <th>2</th>\n",
       "      <td>546462</td>\n",
       "      <td>treatment</td>\n",
       "      <td>new</td>\n",
       "      <td>4.40</td>\n",
       "      <td>no</td>\n",
       "      <td>Spanish</td>\n",
       "    </tr>\n",
       "    <tr>\n",
       "      <th>4</th>\n",
       "      <td>546459</td>\n",
       "      <td>treatment</td>\n",
       "      <td>new</td>\n",
       "      <td>4.75</td>\n",
       "      <td>yes</td>\n",
       "      <td>Spanish</td>\n",
       "    </tr>\n",
       "    <tr>\n",
       "      <th>6</th>\n",
       "      <td>546448</td>\n",
       "      <td>treatment</td>\n",
       "      <td>new</td>\n",
       "      <td>5.25</td>\n",
       "      <td>yes</td>\n",
       "      <td>French</td>\n",
       "    </tr>\n",
       "    <tr>\n",
       "      <th>8</th>\n",
       "      <td>546461</td>\n",
       "      <td>treatment</td>\n",
       "      <td>new</td>\n",
       "      <td>10.71</td>\n",
       "      <td>yes</td>\n",
       "      <td>French</td>\n",
       "    </tr>\n",
       "  </tbody>\n",
       "</table>\n",
       "</div>"
      ],
      "text/plain": [
       "   user_id      group landing_page  time_spent_on_the_page converted  \\\n",
       "1   546468  treatment          new                    7.13       yes   \n",
       "2   546462  treatment          new                    4.40        no   \n",
       "4   546459  treatment          new                    4.75       yes   \n",
       "6   546448  treatment          new                    5.25       yes   \n",
       "8   546461  treatment          new                   10.71       yes   \n",
       "\n",
       "  language_preferred  \n",
       "1            English  \n",
       "2            Spanish  \n",
       "4            Spanish  \n",
       "6             French  \n",
       "8             French  "
      ]
     },
     "execution_count": 36,
     "metadata": {},
     "output_type": "execute_result"
    }
   ],
   "source": [
    "new_time.head()"
   ]
  },
  {
   "cell_type": "markdown",
   "id": "f41af484",
   "metadata": {},
   "source": [
    "#### Shapiro-Wilkes test must be completed to test for normality."
   ]
  },
  {
   "cell_type": "markdown",
   "id": "5d136c27",
   "metadata": {},
   "source": [
    "We will test the null hypothesis\n",
    "\n",
    ">$H_0:$ Time spent on the new page follows a normal distribution against\n",
    "\n",
    "against the alternative hypothesis\n",
    "\n",
    ">$H_a:$ Time spent on the new page does not follow a normal distribution"
   ]
  },
  {
   "cell_type": "code",
   "execution_count": 37,
   "id": "9a79e867",
   "metadata": {
    "scrolled": true
   },
   "outputs": [
    {
     "name": "stdout",
     "output_type": "stream",
     "text": [
      "The p-value is 0.8040016293525696\n"
     ]
    }
   ],
   "source": [
    "# Assumption 1: Normality\n",
    "# import the required function\n",
    "from scipy import stats\n",
    "\n",
    "# find the p-value\n",
    "w, p_value = stats.shapiro(new_time['time_spent_on_the_page']) \n",
    "print('The p-value is', p_value)"
   ]
  },
  {
   "cell_type": "markdown",
   "id": "d250fa82",
   "metadata": {},
   "source": [
    "Since p-value of the test is very large, we fail to reject the null hypothesis that the response follows the normal distribution."
   ]
  },
  {
   "cell_type": "markdown",
   "id": "70dcc3b7",
   "metadata": {},
   "source": [
    "#### For equality of variance, Levene test is applied to the response variable."
   ]
  },
  {
   "cell_type": "markdown",
   "id": "b8db6f69",
   "metadata": {},
   "source": [
    "We will test the null hypothesis\n",
    "\n",
    ">$H_0$: All the population variances are equal\n",
    "\n",
    "against the alternative hypothesis\n",
    "\n",
    ">$H_a$: At least one variance is different from the rest"
   ]
  },
  {
   "cell_type": "code",
   "execution_count": 38,
   "id": "d039f28f",
   "metadata": {},
   "outputs": [
    {
     "name": "stdout",
     "output_type": "stream",
     "text": [
      "The p-value is 0.46711357711340173\n"
     ]
    }
   ],
   "source": [
    "#Assumption 2: Homogeneity of Variance\n",
    "#import the required function\n",
    "from scipy.stats import levene\n",
    "statistic, p_value = levene( new_time['time_spent_on_the_page'][new_time['language_preferred'] == \"English\"], \n",
    "                                   new_time['time_spent_on_the_page'][new_time['language_preferred']==\"Spanish\"], \n",
    "                                   new_time['time_spent_on_the_page'][new_time['language_preferred']==\"French\"])\n",
    "# find the p-value\n",
    "print('The p-value is', p_value)"
   ]
  },
  {
   "cell_type": "markdown",
   "id": "84378226",
   "metadata": {},
   "source": [
    "Since the p-value is large, we fail to reject the null hypothesis of homogeneity of variances."
   ]
  },
  {
   "cell_type": "markdown",
   "id": "52163562",
   "metadata": {},
   "source": [
    "- The populations are normally distributed - verified using the Shapiro-Wilk’s test.\n",
    "- Samples are independent simple random samples.\n",
    "- Population variances are equal - verified using the Levene's test.\n",
    "\n",
    "#### We can use the One-Way ANOVA test to check for equality of means."
   ]
  },
  {
   "cell_type": "markdown",
   "id": "94f05359",
   "metadata": {
    "id": "f5c5258d"
   },
   "source": [
    "### Step 5: Calculate the p-value"
   ]
  },
  {
   "cell_type": "code",
   "execution_count": 39,
   "id": "b271cf1f",
   "metadata": {
    "scrolled": true
   },
   "outputs": [
    {
     "name": "stdout",
     "output_type": "stream",
     "text": [
      "The p-value is 0.43204138694325955\n"
     ]
    }
   ],
   "source": [
    "#import the required function\n",
    "from scipy.stats import f_oneway\n",
    "\n",
    "# perform one-way anova test\n",
    "test_stat, p_value = f_oneway(new_time.loc[new_time['language_preferred'] == 'English', 'time_spent_on_the_page'],\n",
    "                              new_time.loc[new_time['language_preferred'] == 'Spanish', 'time_spent_on_the_page'],\n",
    "                              new_time.loc[new_time['language_preferred'] == 'French', 'time_spent_on_the_page'])\n",
    "print('The p-value is ' + str(p_value))"
   ]
  },
  {
   "cell_type": "markdown",
   "id": "a2992896",
   "metadata": {
    "id": "359b12f8"
   },
   "source": [
    "### Step 6: Compare the p-value with $\\alpha$"
   ]
  },
  {
   "cell_type": "markdown",
   "id": "95f67626",
   "metadata": {
    "id": "7be47289"
   },
   "source": [
    "This p-value of ~0.43 is larger than the $\\alpha$ (level of significance) of 0.05."
   ]
  },
  {
   "cell_type": "markdown",
   "id": "d339bc84",
   "metadata": {
    "id": "d9affc84"
   },
   "source": [
    "### Step 7:  Draw inference"
   ]
  },
  {
   "cell_type": "markdown",
   "id": "fefdf773",
   "metadata": {
    "id": "6b16dd4b"
   },
   "source": [
    "Since the p-value is above $\\alpha$ we fail to reject the null hypothesis. We do not have enough statistical significance to conclude that  at least one time spent on the page level is different from the rest at 5% significance level."
   ]
  },
  {
   "cell_type": "markdown",
   "id": "3acbc947",
   "metadata": {
    "id": "3acbc947"
   },
   "source": [
    "## Conclusion and Business Recommendations"
   ]
  },
  {
   "cell_type": "markdown",
   "id": "21fb1063",
   "metadata": {
    "id": "21fb1063"
   },
   "source": [
    "* If the news portal completed its A/B testing of the new and old landing pages at the end of this analysis, they would need to make the change to the new landing page.\n",
    "* Not only do visitors spend a greater average time on the new page (~6.22 on the new page compared to ~4.53 on the old landing page), there is a higher conversion rate for the new page (66% converted on the new page as compared to 42% for the old page).\n",
    "* Even these basic statistics regarding mean and conversion support a change to the new page.\n",
    "* Increased time spent on the landing page increases exposure to the brand even if the conversion does not occur. This increases market penetration through word of mouth and brand recognition.\n",
    "* There is significant statistical evidence that shows the new page to be more apt to convert visitors than the old.\n",
    "* The company should not be concerned with preferred language of the new page as it seems to have little bearing on average time spent on the page; however, there is visual evidence that shows a higher conversion rate may exist within English users and greater statistical exploration should be completed within the realm of preferred language and conversion on the new landing page once more data is gathered from its use."
   ]
  }
 ],
 "metadata": {
  "colab": {
   "collapsed_sections": [],
   "name": "ENews_Express_Learner_Notebook[Full Code Version].ipynb",
   "provenance": []
  },
  "kernelspec": {
   "display_name": "Python 3",
   "language": "python",
   "name": "python3"
  },
  "language_info": {
   "codemirror_mode": {
    "name": "ipython",
    "version": 3
   },
   "file_extension": ".py",
   "mimetype": "text/x-python",
   "name": "python",
   "nbconvert_exporter": "python",
   "pygments_lexer": "ipython3",
   "version": "3.8.8"
  }
 },
 "nbformat": 4,
 "nbformat_minor": 5
}
